{
 "cells": [
  {
   "cell_type": "code",
   "execution_count": 2,
   "id": "578471f3",
   "metadata": {},
   "outputs": [],
   "source": [
    "import pandas as pd\n",
    "import numpy as np "
   ]
  },
  {
   "cell_type": "code",
   "execution_count": 3,
   "id": "6476bc36",
   "metadata": {},
   "outputs": [
    {
     "name": "stdout",
     "output_type": "stream",
     "text": [
      "\r",
      "  0% [                                                                          ]       0 / 1423529\r",
      "  0% [                                                                          ]    8192 / 1423529\r",
      "  1% [                                                                          ]   16384 / 1423529\r",
      "  1% [.                                                                         ]   24576 / 1423529\r",
      "  2% [.                                                                         ]   32768 / 1423529\r",
      "  2% [..                                                                        ]   40960 / 1423529\r",
      "  3% [..                                                                        ]   49152 / 1423529\r",
      "  4% [..                                                                        ]   57344 / 1423529\r",
      "  4% [...                                                                       ]   65536 / 1423529\r",
      "  5% [...                                                                       ]   73728 / 1423529\r",
      "  5% [....                                                                      ]   81920 / 1423529\r",
      "  6% [....                                                                      ]   90112 / 1423529\r",
      "  6% [.....                                                                     ]   98304 / 1423529\r",
      "  7% [.....                                                                     ]  106496 / 1423529\r",
      "  8% [.....                                                                     ]  114688 / 1423529\r",
      "  8% [......                                                                    ]  122880 / 1423529\r",
      "  9% [......                                                                    ]  131072 / 1423529\r",
      "  9% [.......                                                                   ]  139264 / 1423529\r",
      " 10% [.......                                                                   ]  147456 / 1423529\r",
      " 10% [........                                                                  ]  155648 / 1423529\r",
      " 11% [........                                                                  ]  163840 / 1423529\r",
      " 12% [........                                                                  ]  172032 / 1423529\r",
      " 12% [.........                                                                 ]  180224 / 1423529\r",
      " 13% [.........                                                                 ]  188416 / 1423529\r",
      " 13% [..........                                                                ]  196608 / 1423529\r",
      " 14% [..........                                                                ]  204800 / 1423529\r",
      " 14% [...........                                                               ]  212992 / 1423529\r",
      " 15% [...........                                                               ]  221184 / 1423529\r",
      " 16% [...........                                                               ]  229376 / 1423529\r",
      " 16% [............                                                              ]  237568 / 1423529\r",
      " 17% [............                                                              ]  245760 / 1423529\r",
      " 17% [.............                                                             ]  253952 / 1423529\r",
      " 18% [.............                                                             ]  262144 / 1423529\r",
      " 18% [..............                                                            ]  270336 / 1423529\r",
      " 19% [..............                                                            ]  278528 / 1423529\r",
      " 20% [..............                                                            ]  286720 / 1423529\r",
      " 20% [...............                                                           ]  294912 / 1423529\r",
      " 21% [...............                                                           ]  303104 / 1423529\r",
      " 21% [................                                                          ]  311296 / 1423529\r",
      " 22% [................                                                          ]  319488 / 1423529\r",
      " 23% [.................                                                         ]  327680 / 1423529\r",
      " 23% [.................                                                         ]  335872 / 1423529\r",
      " 24% [.................                                                         ]  344064 / 1423529\r",
      " 24% [..................                                                        ]  352256 / 1423529\r",
      " 25% [..................                                                        ]  360448 / 1423529\r",
      " 25% [...................                                                       ]  368640 / 1423529\r",
      " 26% [...................                                                       ]  376832 / 1423529\r",
      " 27% [....................                                                      ]  385024 / 1423529\r",
      " 27% [....................                                                      ]  393216 / 1423529\r",
      " 28% [....................                                                      ]  401408 / 1423529\r",
      " 28% [.....................                                                     ]  409600 / 1423529\r",
      " 29% [.....................                                                     ]  417792 / 1423529\r",
      " 29% [......................                                                    ]  425984 / 1423529\r",
      " 30% [......................                                                    ]  434176 / 1423529\r",
      " 31% [......................                                                    ]  442368 / 1423529\r",
      " 31% [.......................                                                   ]  450560 / 1423529\r",
      " 32% [.......................                                                   ]  458752 / 1423529\r",
      " 32% [........................                                                  ]  466944 / 1423529\r",
      " 33% [........................                                                  ]  475136 / 1423529\r",
      " 33% [.........................                                                 ]  483328 / 1423529\r",
      " 34% [.........................                                                 ]  491520 / 1423529\r",
      " 35% [.........................                                                 ]  499712 / 1423529\r",
      " 35% [..........................                                                ]  507904 / 1423529\r",
      " 36% [..........................                                                ]  516096 / 1423529\r",
      " 36% [...........................                                               ]  524288 / 1423529\r",
      " 37% [...........................                                               ]  532480 / 1423529\r",
      " 37% [............................                                              ]  540672 / 1423529\r",
      " 38% [............................                                              ]  548864 / 1423529\r",
      " 39% [............................                                              ]  557056 / 1423529\r",
      " 39% [.............................                                             ]  565248 / 1423529\r",
      " 40% [.............................                                             ]  573440 / 1423529\r",
      " 40% [..............................                                            ]  581632 / 1423529\r",
      " 41% [..............................                                            ]  589824 / 1423529\r",
      " 42% [...............................                                           ]  598016 / 1423529\r",
      " 42% [...............................                                           ]  606208 / 1423529\r",
      " 43% [...............................                                           ]  614400 / 1423529\r",
      " 43% [................................                                          ]  622592 / 1423529\r",
      " 44% [................................                                          ]  630784 / 1423529\r",
      " 44% [.................................                                         ]  638976 / 1423529\r",
      " 45% [.................................                                         ]  647168 / 1423529\r",
      " 46% [..................................                                        ]  655360 / 1423529\r",
      " 46% [..................................                                        ]  663552 / 1423529\r",
      " 47% [..................................                                        ]  671744 / 1423529\r",
      " 47% [...................................                                       ]  679936 / 1423529\r",
      " 48% [...................................                                       ]  688128 / 1423529\r",
      " 48% [....................................                                      ]  696320 / 1423529\r",
      " 49% [....................................                                      ]  704512 / 1423529\r",
      " 50% [.....................................                                     ]  712704 / 1423529\r",
      " 50% [.....................................                                     ]  720896 / 1423529\r",
      " 51% [.....................................                                     ]  729088 / 1423529\r",
      " 51% [......................................                                    ]  737280 / 1423529\r",
      " 52% [......................................                                    ]  745472 / 1423529\r",
      " 52% [.......................................                                   ]  753664 / 1423529\r",
      " 53% [.......................................                                   ]  761856 / 1423529\r",
      " 54% [........................................                                  ]  770048 / 1423529\r",
      " 54% [........................................                                  ]  778240 / 1423529\r",
      " 55% [........................................                                  ]  786432 / 1423529\r",
      " 55% [.........................................                                 ]  794624 / 1423529\r",
      " 56% [.........................................                                 ]  802816 / 1423529\r",
      " 56% [..........................................                                ]  811008 / 1423529\r",
      " 57% [..........................................                                ]  819200 / 1423529\r",
      " 58% [...........................................                               ]  827392 / 1423529\r",
      " 58% [...........................................                               ]  835584 / 1423529\r",
      " 59% [...........................................                               ]  843776 / 1423529\r",
      " 59% [............................................                              ]  851968 / 1423529\r",
      " 60% [............................................                              ]  860160 / 1423529\r",
      " 60% [.............................................                             ]  868352 / 1423529\r",
      " 61% [.............................................                             ]  876544 / 1423529\r",
      " 62% [.............................................                             ]  884736 / 1423529\r",
      " 62% [..............................................                            ]  892928 / 1423529\r",
      " 63% [..............................................                            ]  901120 / 1423529\r",
      " 63% [...............................................                           ]  909312 / 1423529\r",
      " 64% [...............................................                           ]  917504 / 1423529\r",
      " 65% [................................................                          ]  925696 / 1423529\r",
      " 65% [................................................                          ]  933888 / 1423529\r",
      " 66% [................................................                          ]  942080 / 1423529\r",
      " 66% [.................................................                         ]  950272 / 1423529\r",
      " 67% [.................................................                         ]  958464 / 1423529\r",
      " 67% [..................................................                        ]  966656 / 1423529\r",
      " 68% [..................................................                        ]  974848 / 1423529\r",
      " 69% [...................................................                       ]  983040 / 1423529"
     ]
    },
    {
     "name": "stdout",
     "output_type": "stream",
     "text": [
      "100% [..........................................................................] 1423529 / 1423529"
     ]
    },
    {
     "data": {
      "text/html": [
       "<div>\n",
       "<style scoped>\n",
       "    .dataframe tbody tr th:only-of-type {\n",
       "        vertical-align: middle;\n",
       "    }\n",
       "\n",
       "    .dataframe tbody tr th {\n",
       "        vertical-align: top;\n",
       "    }\n",
       "\n",
       "    .dataframe thead th {\n",
       "        text-align: right;\n",
       "    }\n",
       "</style>\n",
       "<table border=\"1\" class=\"dataframe\">\n",
       "  <thead>\n",
       "    <tr style=\"text-align: right;\">\n",
       "      <th></th>\n",
       "      <th>longitude</th>\n",
       "      <th>latitude</th>\n",
       "      <th>housing_median_age</th>\n",
       "      <th>total_rooms</th>\n",
       "      <th>total_bedrooms</th>\n",
       "      <th>population</th>\n",
       "      <th>households</th>\n",
       "      <th>median_income</th>\n",
       "      <th>median_house_value</th>\n",
       "      <th>ocean_proximity</th>\n",
       "    </tr>\n",
       "  </thead>\n",
       "  <tbody>\n",
       "    <tr>\n",
       "      <th>0</th>\n",
       "      <td>-122.23</td>\n",
       "      <td>37.88</td>\n",
       "      <td>41.0</td>\n",
       "      <td>880.0</td>\n",
       "      <td>129.0</td>\n",
       "      <td>322.0</td>\n",
       "      <td>126.0</td>\n",
       "      <td>8.3252</td>\n",
       "      <td>452600.0</td>\n",
       "      <td>NEAR BAY</td>\n",
       "    </tr>\n",
       "    <tr>\n",
       "      <th>1</th>\n",
       "      <td>-122.22</td>\n",
       "      <td>37.86</td>\n",
       "      <td>21.0</td>\n",
       "      <td>7099.0</td>\n",
       "      <td>1106.0</td>\n",
       "      <td>2401.0</td>\n",
       "      <td>1138.0</td>\n",
       "      <td>8.3014</td>\n",
       "      <td>358500.0</td>\n",
       "      <td>NEAR BAY</td>\n",
       "    </tr>\n",
       "    <tr>\n",
       "      <th>2</th>\n",
       "      <td>-122.24</td>\n",
       "      <td>37.85</td>\n",
       "      <td>52.0</td>\n",
       "      <td>1467.0</td>\n",
       "      <td>190.0</td>\n",
       "      <td>496.0</td>\n",
       "      <td>177.0</td>\n",
       "      <td>7.2574</td>\n",
       "      <td>352100.0</td>\n",
       "      <td>NEAR BAY</td>\n",
       "    </tr>\n",
       "    <tr>\n",
       "      <th>3</th>\n",
       "      <td>-122.25</td>\n",
       "      <td>37.85</td>\n",
       "      <td>52.0</td>\n",
       "      <td>1274.0</td>\n",
       "      <td>235.0</td>\n",
       "      <td>558.0</td>\n",
       "      <td>219.0</td>\n",
       "      <td>5.6431</td>\n",
       "      <td>341300.0</td>\n",
       "      <td>NEAR BAY</td>\n",
       "    </tr>\n",
       "    <tr>\n",
       "      <th>4</th>\n",
       "      <td>-122.25</td>\n",
       "      <td>37.85</td>\n",
       "      <td>52.0</td>\n",
       "      <td>1627.0</td>\n",
       "      <td>280.0</td>\n",
       "      <td>565.0</td>\n",
       "      <td>259.0</td>\n",
       "      <td>3.8462</td>\n",
       "      <td>342200.0</td>\n",
       "      <td>NEAR BAY</td>\n",
       "    </tr>\n",
       "  </tbody>\n",
       "</table>\n",
       "</div>"
      ],
      "text/plain": [
       "   longitude  latitude  housing_median_age  total_rooms  total_bedrooms  \\\n",
       "0    -122.23     37.88                41.0        880.0           129.0   \n",
       "1    -122.22     37.86                21.0       7099.0          1106.0   \n",
       "2    -122.24     37.85                52.0       1467.0           190.0   \n",
       "3    -122.25     37.85                52.0       1274.0           235.0   \n",
       "4    -122.25     37.85                52.0       1627.0           280.0   \n",
       "\n",
       "   population  households  median_income  median_house_value ocean_proximity  \n",
       "0       322.0       126.0         8.3252            452600.0        NEAR BAY  \n",
       "1      2401.0      1138.0         8.3014            358500.0        NEAR BAY  \n",
       "2       496.0       177.0         7.2574            352100.0        NEAR BAY  \n",
       "3       558.0       219.0         5.6431            341300.0        NEAR BAY  \n",
       "4       565.0       259.0         3.8462            342200.0        NEAR BAY  "
      ]
     },
     "execution_count": 3,
     "metadata": {},
     "output_type": "execute_result"
    }
   ],
   "source": [
    "import wget\n",
    "\n",
    "url = \"https://raw.githubusercontent.com/alexeygrigorev/datasets/master/housing.csv\"\n",
    "\n",
    "file_path = \"housing.csv\"\n",
    "wget.download(url, file_path)\n",
    "\n",
    "data = pd.read_csv(file_path)\n",
    "\n",
    "data.head()\n"
   ]
  },
  {
   "cell_type": "markdown",
   "id": "04ead37d",
   "metadata": {},
   "source": [
    "Question 1"
   ]
  },
  {
   "cell_type": "code",
   "execution_count": 4,
   "id": "2de7d73c",
   "metadata": {},
   "outputs": [
    {
     "data": {
      "text/plain": [
       "'1.3.4'"
      ]
     },
     "execution_count": 4,
     "metadata": {},
     "output_type": "execute_result"
    }
   ],
   "source": [
    "pd.__version__"
   ]
  },
  {
   "cell_type": "code",
   "execution_count": 5,
   "id": "82c7342d",
   "metadata": {},
   "outputs": [
    {
     "name": "stdout",
     "output_type": "stream",
     "text": [
      "<class 'pandas.core.frame.DataFrame'>\n",
      "RangeIndex: 20640 entries, 0 to 20639\n",
      "Data columns (total 10 columns):\n",
      " #   Column              Non-Null Count  Dtype  \n",
      "---  ------              --------------  -----  \n",
      " 0   longitude           20640 non-null  float64\n",
      " 1   latitude            20640 non-null  float64\n",
      " 2   housing_median_age  20640 non-null  float64\n",
      " 3   total_rooms         20640 non-null  float64\n",
      " 4   total_bedrooms      20433 non-null  float64\n",
      " 5   population          20640 non-null  float64\n",
      " 6   households          20640 non-null  float64\n",
      " 7   median_income       20640 non-null  float64\n",
      " 8   median_house_value  20640 non-null  float64\n",
      " 9   ocean_proximity     20640 non-null  object \n",
      "dtypes: float64(9), object(1)\n",
      "memory usage: 1.6+ MB\n"
     ]
    }
   ],
   "source": [
    "data.info()"
   ]
  },
  {
   "cell_type": "code",
   "execution_count": 55,
   "id": "de9b4d6e",
   "metadata": {},
   "outputs": [
    {
     "data": {
      "text/plain": [
       "array(['longitude', 'latitude', 'housing_median_age', 'total_rooms',\n",
       "       'total_bedrooms', 'population', 'households', 'median_income',\n",
       "       'median_house_value', 'ocean_proximity'], dtype=object)"
      ]
     },
     "execution_count": 55,
     "metadata": {},
     "output_type": "execute_result"
    }
   ],
   "source": [
    "data.columns.values"
   ]
  },
  {
   "cell_type": "code",
   "execution_count": 6,
   "id": "b08533f9",
   "metadata": {},
   "outputs": [
    {
     "data": {
      "text/html": [
       "<div>\n",
       "<style scoped>\n",
       "    .dataframe tbody tr th:only-of-type {\n",
       "        vertical-align: middle;\n",
       "    }\n",
       "\n",
       "    .dataframe tbody tr th {\n",
       "        vertical-align: top;\n",
       "    }\n",
       "\n",
       "    .dataframe thead th {\n",
       "        text-align: right;\n",
       "    }\n",
       "</style>\n",
       "<table border=\"1\" class=\"dataframe\">\n",
       "  <thead>\n",
       "    <tr style=\"text-align: right;\">\n",
       "      <th></th>\n",
       "      <th>longitude</th>\n",
       "      <th>latitude</th>\n",
       "      <th>housing_median_age</th>\n",
       "      <th>total_rooms</th>\n",
       "      <th>total_bedrooms</th>\n",
       "      <th>population</th>\n",
       "      <th>households</th>\n",
       "      <th>median_income</th>\n",
       "      <th>median_house_value</th>\n",
       "      <th>ocean_proximity</th>\n",
       "    </tr>\n",
       "  </thead>\n",
       "  <tbody>\n",
       "    <tr>\n",
       "      <th>0</th>\n",
       "      <td>-122.23</td>\n",
       "      <td>37.88</td>\n",
       "      <td>41.0</td>\n",
       "      <td>880.0</td>\n",
       "      <td>129.0</td>\n",
       "      <td>322.0</td>\n",
       "      <td>126.0</td>\n",
       "      <td>8.3252</td>\n",
       "      <td>452600.0</td>\n",
       "      <td>NEAR BAY</td>\n",
       "    </tr>\n",
       "    <tr>\n",
       "      <th>1</th>\n",
       "      <td>-122.22</td>\n",
       "      <td>37.86</td>\n",
       "      <td>21.0</td>\n",
       "      <td>7099.0</td>\n",
       "      <td>1106.0</td>\n",
       "      <td>2401.0</td>\n",
       "      <td>1138.0</td>\n",
       "      <td>8.3014</td>\n",
       "      <td>358500.0</td>\n",
       "      <td>NEAR BAY</td>\n",
       "    </tr>\n",
       "    <tr>\n",
       "      <th>2</th>\n",
       "      <td>-122.24</td>\n",
       "      <td>37.85</td>\n",
       "      <td>52.0</td>\n",
       "      <td>1467.0</td>\n",
       "      <td>190.0</td>\n",
       "      <td>496.0</td>\n",
       "      <td>177.0</td>\n",
       "      <td>7.2574</td>\n",
       "      <td>352100.0</td>\n",
       "      <td>NEAR BAY</td>\n",
       "    </tr>\n",
       "    <tr>\n",
       "      <th>3</th>\n",
       "      <td>-122.25</td>\n",
       "      <td>37.85</td>\n",
       "      <td>52.0</td>\n",
       "      <td>1274.0</td>\n",
       "      <td>235.0</td>\n",
       "      <td>558.0</td>\n",
       "      <td>219.0</td>\n",
       "      <td>5.6431</td>\n",
       "      <td>341300.0</td>\n",
       "      <td>NEAR BAY</td>\n",
       "    </tr>\n",
       "    <tr>\n",
       "      <th>4</th>\n",
       "      <td>-122.25</td>\n",
       "      <td>37.85</td>\n",
       "      <td>52.0</td>\n",
       "      <td>1627.0</td>\n",
       "      <td>280.0</td>\n",
       "      <td>565.0</td>\n",
       "      <td>259.0</td>\n",
       "      <td>3.8462</td>\n",
       "      <td>342200.0</td>\n",
       "      <td>NEAR BAY</td>\n",
       "    </tr>\n",
       "  </tbody>\n",
       "</table>\n",
       "</div>"
      ],
      "text/plain": [
       "   longitude  latitude  housing_median_age  total_rooms  total_bedrooms  \\\n",
       "0    -122.23     37.88                41.0        880.0           129.0   \n",
       "1    -122.22     37.86                21.0       7099.0          1106.0   \n",
       "2    -122.24     37.85                52.0       1467.0           190.0   \n",
       "3    -122.25     37.85                52.0       1274.0           235.0   \n",
       "4    -122.25     37.85                52.0       1627.0           280.0   \n",
       "\n",
       "   population  households  median_income  median_house_value ocean_proximity  \n",
       "0       322.0       126.0         8.3252            452600.0        NEAR BAY  \n",
       "1      2401.0      1138.0         8.3014            358500.0        NEAR BAY  \n",
       "2       496.0       177.0         7.2574            352100.0        NEAR BAY  \n",
       "3       558.0       219.0         5.6431            341300.0        NEAR BAY  \n",
       "4       565.0       259.0         3.8462            342200.0        NEAR BAY  "
      ]
     },
     "execution_count": 6,
     "metadata": {},
     "output_type": "execute_result"
    }
   ],
   "source": [
    "data.head()"
   ]
  },
  {
   "cell_type": "markdown",
   "id": "e5b82685",
   "metadata": {},
   "source": [
    "Question 2"
   ]
  },
  {
   "cell_type": "code",
   "execution_count": 11,
   "id": "3d7be346",
   "metadata": {},
   "outputs": [],
   "source": [
    "no_of_columns = data.shape[1]"
   ]
  },
  {
   "cell_type": "markdown",
   "id": "35617cbe",
   "metadata": {},
   "source": [
    "Question 3"
   ]
  },
  {
   "cell_type": "code",
   "execution_count": 13,
   "id": "6f899606",
   "metadata": {},
   "outputs": [
    {
     "data": {
      "text/plain": [
       "longitude               0\n",
       "latitude                0\n",
       "housing_median_age      0\n",
       "total_rooms             0\n",
       "total_bedrooms        207\n",
       "population              0\n",
       "households              0\n",
       "median_income           0\n",
       "median_house_value      0\n",
       "ocean_proximity         0\n",
       "dtype: int64"
      ]
     },
     "execution_count": 13,
     "metadata": {},
     "output_type": "execute_result"
    }
   ],
   "source": [
    "data.isnull().sum()"
   ]
  },
  {
   "cell_type": "markdown",
   "id": "cac3c11f",
   "metadata": {},
   "source": [
    "Question 4"
   ]
  },
  {
   "cell_type": "code",
   "execution_count": 14,
   "id": "f53ee30d",
   "metadata": {},
   "outputs": [
    {
     "data": {
      "text/plain": [
       "5"
      ]
     },
     "execution_count": 14,
     "metadata": {},
     "output_type": "execute_result"
    }
   ],
   "source": [
    "len(data[\"ocean_proximityocean_proximity\"].unique())"
   ]
  },
  {
   "cell_type": "markdown",
   "id": "3e5b0b35",
   "metadata": {},
   "source": [
    "Question 5"
   ]
  },
  {
   "cell_type": "code",
   "execution_count": 17,
   "id": "c169596b",
   "metadata": {},
   "outputs": [
    {
     "data": {
      "text/plain": [
       "array(['NEAR BAY', '<1H OCEAN', 'INLAND', 'NEAR OCEAN', 'ISLAND'],\n",
       "      dtype=object)"
      ]
     },
     "execution_count": 17,
     "metadata": {},
     "output_type": "execute_result"
    }
   ],
   "source": [
    "data[\"ocean_proximity\"].unique()"
   ]
  },
  {
   "cell_type": "code",
   "execution_count": 20,
   "id": "91fb8a4f",
   "metadata": {},
   "outputs": [
    {
     "data": {
      "text/plain": [
       "259212.31179039303"
      ]
     },
     "execution_count": 20,
     "metadata": {},
     "output_type": "execute_result"
    }
   ],
   "source": [
    "data1=data[data[\"ocean_proximity\"]=='NEAR BAY']\n",
    "data1[\"median_house_value\"].mean()"
   ]
  },
  {
   "cell_type": "markdown",
   "id": "dd65ca59",
   "metadata": {},
   "source": [
    "Question 6"
   ]
  },
  {
   "cell_type": "code",
   "execution_count": 26,
   "id": "bd9727bf",
   "metadata": {},
   "outputs": [
    {
     "data": {
      "text/plain": [
       "537.8705525375618"
      ]
     },
     "execution_count": 26,
     "metadata": {},
     "output_type": "execute_result"
    }
   ],
   "source": [
    "mean_total_beadrooms =data[\"total_bedrooms\"].mean()\n",
    "\n",
    "data2= data[\"total_bedrooms\"].fillna(mean_total_beadrooms)\n",
    "mean_total_beadrooms_after_fillna =data[\"total_bedrooms\"].mean()\n",
    "mean_total_beadrooms_after_fillna"
   ]
  },
  {
   "cell_type": "code",
   "execution_count": 27,
   "id": "7701e98b",
   "metadata": {},
   "outputs": [
    {
     "data": {
      "text/plain": [
       "537.8705525375618"
      ]
     },
     "execution_count": 27,
     "metadata": {},
     "output_type": "execute_result"
    }
   ],
   "source": [
    "mean_total_beadrooms"
   ]
  },
  {
   "cell_type": "markdown",
   "id": "4a4610d0",
   "metadata": {},
   "source": [
    "Question 7"
   ]
  },
  {
   "cell_type": "code",
   "execution_count": 58,
   "id": "ce0b562b",
   "metadata": {},
   "outputs": [
    {
     "data": {
      "text/html": [
       "<div>\n",
       "<style scoped>\n",
       "    .dataframe tbody tr th:only-of-type {\n",
       "        vertical-align: middle;\n",
       "    }\n",
       "\n",
       "    .dataframe tbody tr th {\n",
       "        vertical-align: top;\n",
       "    }\n",
       "\n",
       "    .dataframe thead th {\n",
       "        text-align: right;\n",
       "    }\n",
       "</style>\n",
       "<table border=\"1\" class=\"dataframe\">\n",
       "  <thead>\n",
       "    <tr style=\"text-align: right;\">\n",
       "      <th></th>\n",
       "      <th>housing_median_age</th>\n",
       "      <th>total_rooms</th>\n",
       "      <th>total_bedrooms</th>\n",
       "    </tr>\n",
       "  </thead>\n",
       "  <tbody>\n",
       "    <tr>\n",
       "      <th>8314</th>\n",
       "      <td>27.0</td>\n",
       "      <td>1675.0</td>\n",
       "      <td>521.0</td>\n",
       "    </tr>\n",
       "    <tr>\n",
       "      <th>8315</th>\n",
       "      <td>52.0</td>\n",
       "      <td>2359.0</td>\n",
       "      <td>591.0</td>\n",
       "    </tr>\n",
       "    <tr>\n",
       "      <th>8316</th>\n",
       "      <td>52.0</td>\n",
       "      <td>2127.0</td>\n",
       "      <td>512.0</td>\n",
       "    </tr>\n",
       "    <tr>\n",
       "      <th>8317</th>\n",
       "      <td>52.0</td>\n",
       "      <td>996.0</td>\n",
       "      <td>264.0</td>\n",
       "    </tr>\n",
       "    <tr>\n",
       "      <th>8318</th>\n",
       "      <td>29.0</td>\n",
       "      <td>716.0</td>\n",
       "      <td>214.0</td>\n",
       "    </tr>\n",
       "  </tbody>\n",
       "</table>\n",
       "</div>"
      ],
      "text/plain": [
       "      housing_median_age  total_rooms  total_bedrooms\n",
       "8314                27.0       1675.0           521.0\n",
       "8315                52.0       2359.0           591.0\n",
       "8316                52.0       2127.0           512.0\n",
       "8317                52.0        996.0           264.0\n",
       "8318                29.0        716.0           214.0"
      ]
     },
     "execution_count": 58,
     "metadata": {},
     "output_type": "execute_result"
    }
   ],
   "source": [
    "data3= data[data[\"ocean_proximity\"]=='ISLAND']\n",
    "data3_a =data3[[\"housing_median_age\",\"total_rooms\",\"total_bedrooms\"]]\n",
    "data3_a"
   ]
  },
  {
   "cell_type": "code",
   "execution_count": null,
   "id": "adcfc964",
   "metadata": {},
   "outputs": [],
   "source": []
  },
  {
   "cell_type": "code",
   "execution_count": 59,
   "id": "8277d271",
   "metadata": {},
   "outputs": [
    {
     "data": {
      "text/plain": [
       "array([ 950, 1300,  800, 1000, 1300])"
      ]
     },
     "execution_count": 59,
     "metadata": {},
     "output_type": "execute_result"
    }
   ],
   "source": [
    "array=data3_a.values\n",
    "X= array\n",
    "X_transopse =X.T\n",
    "XTX = np.dot(X, X_transopse)\n",
    "XTX_inverse = np.linalg.inv(XTX)\n",
    "\n",
    "y=np.array([950,1300,800,1000,1300])\n",
    "y"
   ]
  },
  {
   "cell_type": "code",
   "execution_count": 62,
   "id": "f014eb16",
   "metadata": {},
   "outputs": [
    {
     "name": "stdout",
     "output_type": "stream",
     "text": [
      "5.699229455065575\n"
     ]
    }
   ],
   "source": [
    "w = np.linalg.inv(X.T.dot(X)).dot(X.T).dot(y)\n",
    "\n",
    "last_element_of_w = w[-1]\n",
    "print(last_element_of_w)"
   ]
  }
 ],
 "metadata": {
  "kernelspec": {
   "display_name": "Python 3 (ipykernel)",
   "language": "python",
   "name": "python3"
  },
  "language_info": {
   "codemirror_mode": {
    "name": "ipython",
    "version": 3
   },
   "file_extension": ".py",
   "mimetype": "text/x-python",
   "name": "python",
   "nbconvert_exporter": "python",
   "pygments_lexer": "ipython3",
   "version": "3.9.7"
  }
 },
 "nbformat": 4,
 "nbformat_minor": 5
}
